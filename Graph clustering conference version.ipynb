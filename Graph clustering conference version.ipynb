{
 "cells": [
  {
   "cell_type": "markdown",
   "metadata": {
    "slideshow": {
     "slide_type": "slide"
    }
   },
   "source": [
    "##### <h1>Graph Clustering in Python: a workshop</h1>\n",
    "<p>Frank Kelly, Data Scientist at Analytics SEO</p>\n",
    "<a href='https://twitter.com/norhustla'>@norhustla</a>\n",
    "<p>DevFest 2015, Nantes</p>\n",
    "\n",
    "<center><img src='https://www.dropbox.com/s/6ddlpuxf0yy6vl8/front_page?dl=1' width = 600 height = auto></center>"
   ]
  },
  {
   "cell_type": "markdown",
   "metadata": {
    "slideshow": {
     "slide_type": "slide"
    }
   },
   "source": [
    "## Contents of this workshop\n",
    "\n",
    "\n",
    "1. Graphs and our use case\n",
    "\n",
    "2. Clustering\n",
    "\n",
    "3. Evaluation and other challenges\n",
    "\n",
    "\n",
    "\n"
   ]
  },
  {
   "cell_type": "markdown",
   "metadata": {
    "slideshow": {
     "slide_type": "slide"
    }
   },
   "source": [
    "### To follow along:\n",
    "\n",
    "* Install Python 3 (https://www.python.org/)\n",
    "* (on Mac Terminal) <code>> pip install ipython pandas numpy igraph matplotlib networkx</code>\n",
    "* dataset: <code> git clone https://github.com/frankdatasci/graph-clustering-lab </code>\n",
    "* recommend iPython / Jupyter (code in the browser) - can run hosted for free here: (https://try.jupyter.org/)"
   ]
  },
  {
   "cell_type": "markdown",
   "metadata": {
    "slideshow": {
     "slide_type": "slide"
    }
   },
   "source": [
    "\n",
    "### Part 1: Graphs \n",
    "\n",
    "a. An overview of my use case\n",
    " * Why are we doing this?  (and what if we didn't?)\n",
    "\n",
    "b. What is a graph?\n",
    " * Explain what a graph is, what human generated data looks like and uses of graphs\n",
    "\n",
    "c. How to represent graphs in Python\n",
    " * Explain graph theory and show how to code up a graph, how to visualise quickly inside and out of Python \n",
    "\n",
    "\n"
   ]
  },
  {
   "cell_type": "markdown",
   "metadata": {
    "slideshow": {
     "slide_type": "slide"
    }
   },
   "source": [
    "## Our use case\n",
    "\n",
    "* Customers pay for  **search keyword recommendations**\n",
    "* What they get is **expensive, or time/resource intensive and often inaccurate**"
   ]
  },
  {
   "cell_type": "markdown",
   "metadata": {
    "slideshow": {
     "slide_type": "slide"
    }
   },
   "source": [
    "## Our use case\n",
    "\n",
    "* Customers pay for  **search keyword recommendations**\n",
    "* What they get is **expensive, or time/resource intensive and often inaccurate**\n",
    "* Nowhere to go?\n",
    " * With **data, graphs and analysis** we plan to help them get out of this fix"
   ]
  },
  {
   "cell_type": "markdown",
   "metadata": {
    "slideshow": {
     "slide_type": "slide"
    }
   },
   "source": [
    "## Search keywords\n",
    "\n"
   ]
  },
  {
   "cell_type": "code",
   "execution_count": 3,
   "metadata": {
    "collapsed": false,
    "slideshow": {
     "slide_type": "slide"
    }
   },
   "outputs": [
    {
     "data": {
      "text/html": [
       "<div>\n",
       "<table border=\"1\" class=\"dataframe\">\n",
       "  <thead>\n",
       "    <tr style=\"text-align: right;\">\n",
       "      <th></th>\n",
       "      <th>Keyword</th>\n",
       "      <th>Search Volume</th>\n",
       "      <th>Rank</th>\n",
       "      <th>URL</th>\n",
       "    </tr>\n",
       "  </thead>\n",
       "  <tbody>\n",
       "    <tr>\n",
       "      <th>498281</th>\n",
       "      <td>baking how to</td>\n",
       "      <td>0</td>\n",
       "      <td>14</td>\n",
       "      <td>www.theguardian.com/lifeandstyle/series/howtobake</td>\n",
       "    </tr>\n",
       "    <tr>\n",
       "      <th>404106</th>\n",
       "      <td>roasted beetroot sweet potato</td>\n",
       "      <td>0</td>\n",
       "      <td>14</td>\n",
       "      <td>www.womanandhome.com/recipes/291394/roasted-sw...</td>\n",
       "    </tr>\n",
       "    <tr>\n",
       "      <th>541335</th>\n",
       "      <td>uses of liquid caramel</td>\n",
       "      <td>0</td>\n",
       "      <td>13</td>\n",
       "      <td>www.deliaonline.com/how-to-cook/sauces-and-dre...</td>\n",
       "    </tr>\n",
       "    <tr>\n",
       "      <th>444502</th>\n",
       "      <td>how to cook a trout whole</td>\n",
       "      <td>0</td>\n",
       "      <td>2</td>\n",
       "      <td>www.bbcgoodfood.com/recipes/simple-herb-baked-...</td>\n",
       "    </tr>\n",
       "    <tr>\n",
       "      <th>172089</th>\n",
       "      <td>jacob's ladder beef ribs recipe</td>\n",
       "      <td>0</td>\n",
       "      <td>12</td>\n",
       "      <td>www.youtube.com/watch?v=6OPxv_PdQPw</td>\n",
       "    </tr>\n",
       "  </tbody>\n",
       "</table>\n",
       "</div>"
      ],
      "text/plain": [
       "                                Keyword  Search Volume  Rank  \\\n",
       "498281                    baking how to              0    14   \n",
       "404106    roasted beetroot sweet potato              0    14   \n",
       "541335           uses of liquid caramel              0    13   \n",
       "444502        how to cook a trout whole              0     2   \n",
       "172089  jacob's ladder beef ribs recipe              0    12   \n",
       "\n",
       "                                                      URL  \n",
       "498281  www.theguardian.com/lifeandstyle/series/howtobake  \n",
       "404106  www.womanandhome.com/recipes/291394/roasted-sw...  \n",
       "541335  www.deliaonline.com/how-to-cook/sauces-and-dre...  \n",
       "444502  www.bbcgoodfood.com/recipes/simple-herb-baked-...  \n",
       "172089                www.youtube.com/watch?v=6OPxv_PdQPw  "
      ]
     },
     "metadata": {},
     "output_type": "display_data"
    }
   ],
   "source": [
    "import pandas as pd\n",
    "from IPython.display import display\n",
    "\n",
    "keywords = pd.read_csv('../data/www.greatbritishchefs.com_43_louvain_graph_clustered_weighted_labelled.csv',encoding = \"ISO-8859-1\", error_bad_lines=False)\\\n",
    ".loc[:,('Keyword', 'Search Volume', 'Rank', 'URL')]\n",
    "\n",
    "display(keywords.sample(5))"
   ]
  },
  {
   "cell_type": "markdown",
   "metadata": {
    "slideshow": {
     "slide_type": "slide"
    }
   },
   "source": [
    "## How can we decide which keywords to optimise for?\n",
    "\n",
    "\n",
    "* Sort by a factor (e.g. search, rank, frequency)\n",
    "* How many keywords will have an impact?\n"
   ]
  },
  {
   "cell_type": "markdown",
   "metadata": {
    "slideshow": {
     "slide_type": "slide"
    }
   },
   "source": [
    "## How can we group keywords together?\n",
    "\n",
    "\n",
    "* Manually group keywords by relevancy or try to match the website structure\n",
    "* Does this grouping match that from real a search algorithm?"
   ]
  },
  {
   "cell_type": "markdown",
   "metadata": {
    "slideshow": {
     "slide_type": "slide"
    }
   },
   "source": [
    "## Search algorithm: a feedback loop?\n",
    "\n",
    "*“In the context of organic search results, your click through rate is how often people click on your site out of all the times your site gets shown in search results. A low CTR means that, no matter how well your site is ranking, users aren’t clicking through to it. This may indicate that they don’t think your site will meet their needs, or that some other site looks better.”*\n",
    "- Google Webmaster Central Blog\n",
    "\n",
    "http://www.beacontechnologies.com/blog/2013/10/how-does-google-use-click-through-rates/"
   ]
  },
  {
   "cell_type": "markdown",
   "metadata": {
    "slideshow": {
     "slide_type": "skip"
    }
   },
   "source": [
    "## Results from clustering without a graph\n",
    "\n"
   ]
  },
  {
   "cell_type": "markdown",
   "metadata": {
    "slideshow": {
     "slide_type": "skip"
    }
   },
   "source": [
    "<a href=\"http://insidebigdata.com/2015/07/20/spark-101-spark-streaming-and-graphx-at-netflix/\">GraphX in the Netflix Recommender System</a>\n",
    "<p></p>\n",
    "<a href='http://www.slideshare.net/sympapadopoulos/a-graphbased-clustering-scheme-for-identifying-related-tags-in-folksonomies'>A Graph-based Clustering Scheme for Identifying Related Tags in Folksonomies<a>"
   ]
  },
  {
   "cell_type": "markdown",
   "metadata": {
    "slideshow": {
     "slide_type": "slide"
    }
   },
   "source": [
    "<h3>What is a graph?</h3>\n",
    "\n",
    "<h4>Answer: A natural mapping used by many disciplines for a structure of interlinked nodes</h4>\n",
    "\n",
    "<table style=\"width:100%\">\n",
    "  <tr>\n",
    "    <td>Tech</td>\n",
    "    <td>e.g. Telecomms networks,  Power grids</td>\n",
    "  </tr>\n",
    "  <tr>\n",
    "  <td>Information</td>\n",
    "    <td>e.g. the Internet, Research paper citations</td>\n",
    "  </tr>\n",
    "  <tr>\n",
    "  <td>Biological</td>\n",
    "    <td>e.g. Gene regulatory networks, Neural networks</td>\n",
    "  </tr>\n",
    "  <tr>\n",
    "  <td>Social</td>\n",
    "    <td>e.g. Communication networks, Social media, Online communities</td>\n",
    "  </tr>\n",
    "    <tr>\n",
    "  <td>Economic</td>\n",
    "    <td>e.g. Trade networks, Finanical networks, Collaboration networks</td>\n",
    "  </tr>\n",
    "</table>\n",
    "\n",
    "<p> Graphs are crucial and interdisciplinary </p>"
   ]
  },
  {
   "cell_type": "markdown",
   "metadata": {
    "slideshow": {
     "slide_type": "slide"
    }
   },
   "source": [
    "## What the keyword URL data looks like\n",
    "\n",
    "<img src=\"https://www.dropbox.com/s/63yizksp5l7dahi/Screenshot%202015-11-06%2015.20.23.png?dl=1\" width = 700 height = auto></img>\n"
   ]
  },
  {
   "cell_type": "markdown",
   "metadata": {
    "slideshow": {
     "slide_type": "slide"
    }
   },
   "source": [
    "### in French...\n",
    "\n",
    "<img src='https://www.dropbox.com/s/rw1pu6w8raumjkp/Screenshot%202015-11-06%2015.05.20.png?dl=1'></img>"
   ]
  },
  {
   "cell_type": "markdown",
   "metadata": {
    "slideshow": {
     "slide_type": "slide"
    }
   },
   "source": [
    "<h3>What types of graph are there?</h3>\n",
    "\n",
    "- Homogenous / heterogenous\n",
    "- Directed / undirected / weighted\n",
    "- Bi-typed"
   ]
  },
  {
   "cell_type": "markdown",
   "metadata": {
    "slideshow": {
     "slide_type": "slide"
    }
   },
   "source": [
    "## Types of graph\n",
    "### The undirected graph\n",
    "\n",
    "<img src='https://www.dropbox.com/s/ne6w4vt1oorqpe8/Screenshot%202015-10-26%2007.02.21.png?dl=1' width =200 height =auto align = center></img>"
   ]
  },
  {
   "cell_type": "markdown",
   "metadata": {
    "slideshow": {
     "slide_type": "slide"
    }
   },
   "source": [
    "### The directed graph\n",
    "\n",
    "\n",
    "<img src='https://www.dropbox.com/s/d49893i4w203vbc/Screenshot%202015-10-26%2007.05.35.png?dl=1' width =200 height =auto></img>\n",
    "\n",
    "* **Directed graph** (digraph): if each edge has a direction (tail → head)\n"
   ]
  },
  {
   "cell_type": "markdown",
   "metadata": {
    "slideshow": {
     "slide_type": "slide"
    }
   },
   "source": [
    "### The weighted graph\n",
    "\n",
    "<img src='https://www.dropbox.com/s/nkxfub1eg5wr095/Screenshot%202015-10-26%2007.05.57.png?dl=1' width =200 height =auto></img>\n",
    "\n",
    "\n",
    "* **Weighted graph**: If a weight wij (usually a real number) is associated with each edge vij"
   ]
  },
  {
   "cell_type": "markdown",
   "metadata": {
    "collapsed": true,
    "slideshow": {
     "slide_type": "slide"
    }
   },
   "source": [
    "### Why use a graph to represent data?\n",
    "\n",
    "\n",
    "\n",
    "* Graph databases often faster than relational for associative data sets\n",
    "* Map more directly to the structure of object-oriented applications.\n",
    "* They can scale more naturally\n",
    "* Depend less on a rigid schema\n",
    "\n",
    "\n"
   ]
  },
  {
   "cell_type": "markdown",
   "metadata": {
    "slideshow": {
     "slide_type": "slide"
    }
   },
   "source": [
    "<h3>Challenges presented by graphs</h3>\n",
    "\n",
    "* High computational cost\n",
    "\n",
    "* Sophisticated graphs may involve weights and/or cycles \n",
    "\n",
    "* High dimensionality\n",
    "\n",
    "* Sparsity\n",
    "\n"
   ]
  },
  {
   "cell_type": "markdown",
   "metadata": {
    "slideshow": {
     "slide_type": "skip"
    }
   },
   "source": [
    "# 1c: \n",
    "Explain graph theory and show how to code up a graph, how to visualise quickly inside and out of Python"
   ]
  },
  {
   "cell_type": "markdown",
   "metadata": {
    "slideshow": {
     "slide_type": "slide"
    }
   },
   "source": [
    "<h3>Graph Theory</h3>\n",
    "<p>How do we mathematically define a graph?</p>\n",
    "\n",
    "\n",
    "a graph $$G = (V, E)$$\n",
    "\n",
    "<p>where: V is a set of *n* vertices, or nodes, and E is a collection of pairs of V</p>\n",
    "\n",
    "where: $$n = |V|$$ \n",
    "\n",
    "\n",
    "* graph is *finite* if V and E are finite sets\n",
    "* graph is *connected* if there exists a path from any vertex to any other"
   ]
  },
  {
   "cell_type": "markdown",
   "metadata": {
    "slideshow": {
     "slide_type": "slide"
    }
   },
   "source": [
    "<img src='http://igraph.org/img/igraph3.svg'></img> <h2>igraph in Python (3)</h2>\n",
    "<p></p>\n",
    "<code>$$ pip install igraph</code>\n",
    "<p></p>\n",
    "<a href=\"http://igraph.org/python/doc/tutorial/tutorial.html\">Tutorial – read online</a>\n",
    "<p></p>\n",
    "<a>http://igraph.org/</a>\n",
    "\n"
   ]
  },
  {
   "cell_type": "markdown",
   "metadata": {
    "slideshow": {
     "slide_type": "notes"
    }
   },
   "source": [
    "There are several options for building graphs in Python (Neo4j, NetworkX, graph-tool)\n",
    "\n",
    "I'll start with some data taken from Neo4j example, which I throughly recommend.\n",
    "Here is how to build a graph in igraph.\n",
    "\n",
    "Python version has limitations in documentation (R version is far better)"
   ]
  },
  {
   "cell_type": "code",
   "execution_count": 4,
   "metadata": {
    "collapsed": false
   },
   "outputs": [
    {
     "name": "stdout",
     "output_type": "stream",
     "text": [
      "IGRAPH U--- 0 0 -- \n",
      "None\n"
     ]
    }
   ],
   "source": [
    "from igraph import *\n",
    "\n",
    "g = Graph()\n",
    "\n",
    "print(summary(g))"
   ]
  },
  {
   "cell_type": "markdown",
   "metadata": {
    "slideshow": {
     "slide_type": "slide"
    }
   },
   "source": [
    "## Example from actor movie database\n",
    "*courtesy of Neo4j tutorials*\n",
    "\n",
    "<img src='http://neo4j.com/wp-content/themes/neo4jweb/assets/images/neo4j-logo-2015.png'></img>\n",
    "\n",
    "<img src = 'https://www.dropbox.com/s/yn34r6m2u742s47/Screenshot%202015-11-06%2014.51.22.png?dl=1' width = 300, height = auto></img>\n",
    "\n",
    "...Load in this data to Pandas DataFrame"
   ]
  },
  {
   "cell_type": "code",
   "execution_count": 20,
   "metadata": {
    "collapsed": false,
    "slideshow": {
     "slide_type": "slide"
    }
   },
   "outputs": [
    {
     "data": {
      "text/html": [
       "<div>\n",
       "<table border=\"1\" class=\"dataframe\">\n",
       "  <thead>\n",
       "    <tr style=\"text-align: right;\">\n",
       "      <th></th>\n",
       "      <th>id</th>\n",
       "      <th>name</th>\n",
       "    </tr>\n",
       "  </thead>\n",
       "  <tbody>\n",
       "    <tr>\n",
       "      <th>8</th>\n",
       "      <td>8</td>\n",
       "      <td>Christopher Guest</td>\n",
       "    </tr>\n",
       "    <tr>\n",
       "      <th>32</th>\n",
       "      <td>32</td>\n",
       "      <td>John Cusack</td>\n",
       "    </tr>\n",
       "    <tr>\n",
       "      <th>30</th>\n",
       "      <td>30</td>\n",
       "      <td>Kelly Preston</td>\n",
       "    </tr>\n",
       "    <tr>\n",
       "      <th>27</th>\n",
       "      <td>27</td>\n",
       "      <td>Bonnie Hunt</td>\n",
       "    </tr>\n",
       "    <tr>\n",
       "      <th>85</th>\n",
       "      <td>85</td>\n",
       "      <td>Patricia Clarkson</td>\n",
       "    </tr>\n",
       "  </tbody>\n",
       "</table>\n",
       "</div>"
      ],
      "text/plain": [
       "    id               name\n",
       "8    8  Christopher Guest\n",
       "32  32        John Cusack\n",
       "30  30      Kelly Preston\n",
       "27  27        Bonnie Hunt\n",
       "85  85  Patricia Clarkson"
      ]
     },
     "metadata": {},
     "output_type": "display_data"
    },
    {
     "data": {
      "text/html": [
       "<div>\n",
       "<table border=\"1\" class=\"dataframe\">\n",
       "  <thead>\n",
       "    <tr style=\"text-align: right;\">\n",
       "      <th></th>\n",
       "      <th>source</th>\n",
       "      <th>target</th>\n",
       "    </tr>\n",
       "  </thead>\n",
       "  <tbody>\n",
       "    <tr>\n",
       "      <th>759</th>\n",
       "      <td>99</td>\n",
       "      <td>101</td>\n",
       "    </tr>\n",
       "    <tr>\n",
       "      <th>305</th>\n",
       "      <td>34</td>\n",
       "      <td>33</td>\n",
       "    </tr>\n",
       "    <tr>\n",
       "      <th>599</th>\n",
       "      <td>80</td>\n",
       "      <td>83</td>\n",
       "    </tr>\n",
       "    <tr>\n",
       "      <th>671</th>\n",
       "      <td>91</td>\n",
       "      <td>16</td>\n",
       "    </tr>\n",
       "    <tr>\n",
       "      <th>648</th>\n",
       "      <td>42</td>\n",
       "      <td>88</td>\n",
       "    </tr>\n",
       "  </tbody>\n",
       "</table>\n",
       "</div>"
      ],
      "text/plain": [
       "     source  target\n",
       "759      99     101\n",
       "305      34      33\n",
       "599      80      83\n",
       "671      91      16\n",
       "648      42      88"
      ]
     },
     "metadata": {},
     "output_type": "display_data"
    }
   ],
   "source": [
    "nodesDF = pd.read_csv('../data/nodesDF.csv').drop(['new_index'], axis=1)\n",
    "display(nodesDF.sample(5))\n",
    "\n",
    "edgesDF = pd.read_csv('../data/edgesDF.csv').drop(['Unnamed: 0'], axis=1)\n",
    "display(edgesDF.sample(5))"
   ]
  },
  {
   "cell_type": "markdown",
   "metadata": {
    "slideshow": {
     "slide_type": "slide"
    }
   },
   "source": [
    "## iGraph example\n",
    "\n",
    "**Add vertices**"
   ]
  },
  {
   "cell_type": "code",
   "execution_count": 21,
   "metadata": {
    "collapsed": false
   },
   "outputs": [
    {
     "name": "stdout",
     "output_type": "stream",
     "text": [
      "IGRAPH UN-- 102 0 -- \n",
      "+ attr: name (v)\n",
      "None\n"
     ]
    }
   ],
   "source": [
    "g = Graph()\n",
    "g.add_vertices(range(len(nodesDF)))\n",
    "\n",
    "g.vs[\"name\"] =  nodesDF[\"name\"].values\n",
    "print(summary(g))\n",
    "\n"
   ]
  },
  {
   "cell_type": "markdown",
   "metadata": {
    "slideshow": {
     "slide_type": "slide"
    }
   },
   "source": [
    "## iGraph example\n",
    "\n",
    "**Add edges**"
   ]
  },
  {
   "cell_type": "code",
   "execution_count": 22,
   "metadata": {
    "collapsed": false
   },
   "outputs": [
    {
     "name": "stdout",
     "output_type": "stream",
     "text": [
      "IGRAPH UN-- 102 768 -- \n",
      "+ attr: name (v)\n",
      "None\n"
     ]
    }
   ],
   "source": [
    "# Need to create a list of tuples\n",
    "tupleList  = (edgesDF.loc[:, (\"source\",\"target\")]).apply\\\n",
    "    (lambda x:(x[0], x[1]), axis=1).values\n",
    "\n",
    "\n",
    "g.add_edges(tupleList)\n",
    "\n",
    "\n",
    "print(summary(g))"
   ]
  },
  {
   "cell_type": "markdown",
   "metadata": {
    "slideshow": {
     "slide_type": "slide"
    }
   },
   "source": [
    "## How to visualise your graph in iPython\n",
    "<h4>Graphviz</h4>\n",
    "<img src='https://upload.wikimedia.org/wikipedia/en/thumb/4/48/GraphvizLogo.png/256px-GraphvizLogo.png' width=250 height = auto></img>\n",
    "<a href='http://pypi.python.org/pypi/pygraphviz'>pygraphviz</a>"
   ]
  },
  {
   "cell_type": "code",
   "execution_count": 8,
   "metadata": {
    "collapsed": true,
    "slideshow": {
     "slide_type": "slide"
    }
   },
   "outputs": [],
   "source": [
    "import pygraphviz as pgv\n",
    "import networkx as nx\n",
    "import matplotlib.pyplot as plt\n",
    "import seaborn as sns\n",
    "%matplotlib inline"
   ]
  },
  {
   "cell_type": "code",
   "execution_count": 9,
   "metadata": {
    "collapsed": false
   },
   "outputs": [],
   "source": [
    "# networkx graph\n",
    "G=nx.Graph()\n",
    "# ad edges with red color\n",
    "G.add_edge(1,2,color='red')\n",
    "G.add_edge(2,3,color='red')\n",
    "# add nodes 3 and 4\n",
    "G.add_node(3)\n",
    "G.add_node(4)\n",
    "\n",
    "# convert to a graphviz agraph\n",
    "A=nx.to_agraph(G)\n"
   ]
  },
  {
   "cell_type": "code",
   "execution_count": 87,
   "metadata": {
    "collapsed": false
   },
   "outputs": [
    {
     "name": "stderr",
     "output_type": "stream",
     "text": [
      "/usr/local/lib/python3.4/site-packages/matplotlib/collections.py:650: FutureWarning: elementwise comparison failed; returning scalar instead, but in the future will perform elementwise comparison\n",
      "  if self._edgecolors_original != str('face'):\n",
      "/usr/local/lib/python3.4/site-packages/matplotlib/collections.py:590: FutureWarning: elementwise comparison failed; returning scalar instead, but in the future will perform elementwise comparison\n",
      "  if self._edgecolors == str('face'):\n"
     ]
    },
    {
     "data": {
      "image/png": "[encoded data removed]",
      "text/plain": [
       "<matplotlib.figure.Figure at 0x110294f98>"
      ]
     },
     "metadata": {},
     "output_type": "display_data"
    }
   ],
   "source": [
    "nx.draw(A)"
   ]
  },
  {
   "cell_type": "markdown",
   "metadata": {
    "slideshow": {
     "slide_type": "slide"
    }
   },
   "source": [
    "\n",
    "<h4>d3.js</h4>\n",
    "<img src='https://www.dropbox.com/s/ddh504c49ne9e78/Screenshot%202015-10-27%2006.54.30.png?dl=1'></img>\n",
    "<a href='http://d3js.org/'>d3.js website</a>"
   ]
  },
  {
   "cell_type": "markdown",
   "metadata": {
    "slideshow": {
     "slide_type": "slide"
    }
   },
   "source": [
    "## How to visualise your graph using D3\n",
    "\n",
    "* Convert nodes and edges to JSON format\n",
    "* Create a small HTML file to load the JSON data and display using alchemy.js\n",
    "* Run an http server from the command line"
   ]
  },
  {
   "cell_type": "code",
   "execution_count": 26,
   "metadata": {
    "collapsed": false,
    "slideshow": {
     "slide_type": "slide"
    }
   },
   "outputs": [],
   "source": [
    "import json\n",
    "\n",
    "# little script to deal with numpy values\n",
    "def default(o):\n",
    "    if isinstance(o, np.integer): return int(o)\n",
    "    raise TypeError\n",
    "\n",
    "def df_to_json_save(nodesDF, edgesDF):\n",
    "\n",
    "    # filter the edge dataframe and convert to dict\n",
    "    edgesDict = edgesDF.loc[:,('source', 'target')].to_dict(orient='index')\n",
    "    nodesDict = nodesDF.to_dict(orient='index')\n",
    "\n",
    "    # collect arrays of dict values\n",
    "    edges_array = []\n",
    "    nodes_array = []\n",
    "    edges_array = list(edgesDict.values())\n",
    "    nodes_array = list(nodesDict.values())\n",
    "\n",
    "    # assemble required JSON structure for alchemy\n",
    "    res = {'edges': edges_array, 'nodes': nodes_array}\n",
    "\n",
    "    # print(json.dumps(res, default=default))\n",
    "\n",
    "    # save file locally as JSON\n",
    "    text_file = open(\"../data/actors.json\", \"w\")\n",
    "    text_file.write(json.dumps(res, default=default))\n",
    "    text_file.close()\n",
    "\n",
    "df_to_json_save(nodesDF, edgesDF)"
   ]
  },
  {
   "cell_type": "markdown",
   "metadata": {
    "slideshow": {
     "slide_type": "slide"
    }
   },
   "source": [
    "* Set an the http server to a port (not the same as iPython default 8888)\n",
    "\n",
    "<code>> python3 -m http.server 8899 &</code>\n",
    "\n",
    "\n",
    "* Now go to this page in your browser\n",
    "\n",
    "<a>http://localhost:8899/graph.html</a>\n",
    "\n",
    "* What you should see:\n",
    "\n",
    "<img src='https://www.dropbox.com/s/dalvub99p2zgevx/Screenshot%202015-11-06%2013.51.59.png?dl=1' width =250 height = auto></img>"
   ]
  },
  {
   "cell_type": "code",
   "execution_count": null,
   "metadata": {
    "collapsed": true
   },
   "outputs": [],
   "source": []
  },
  {
   "cell_type": "markdown",
   "metadata": {
    "slideshow": {
     "slide_type": "slide"
    }
   },
   "source": [
    "## Graphs: key concepts\n",
    "\n",
    "**Degree** of a vertex: Number of edges connecting to it\n",
    "\n",
    "**IN degree** and **OUT degree** used for directed graphs\n"
   ]
  },
  {
   "cell_type": "code",
   "execution_count": 93,
   "metadata": {
    "collapsed": false
   },
   "outputs": [
    {
     "name": "stdout",
     "output_type": "stream",
     "text": [
      "IGRAPH DN-- 102 1536 -- \n",
      "+ attr: name (v)\n",
      "None\n"
     ]
    }
   ],
   "source": [
    "g_dir = Graph.as_directed(g)\n",
    "\n",
    "print(summary(g_dir))"
   ]
  },
  {
   "cell_type": "markdown",
   "metadata": {
    "slideshow": {
     "slide_type": "slide"
    }
   },
   "source": [
    "### Matrix representation of a graph\n",
    "\n",
    "<p>How do we represent the structure of a graph as a matrix?</p>\n",
    "<p></p>\n",
    "<p>We use an <strong>adjacency matrix</strong></p>\n",
    "<p></p>\n",
    "$$|V| \\times |V|$$\n",
    "\n",
    "**Undirected** graphs give a symmetric\n",
    "matrix of 1s and 0s\n",
    "<p></p>\n",
    "\n",
    "<code>[[0, 1, 0, 0]\n",
    " [1, 0, 1, 1]\n",
    " [0, 1, 0, 1]\n",
    " [0, 1, 1, 0]]</code>\n",
    " \n",
    " \n",
    " <p>$$A_ij=1 $$ if there is a edge connecting vertex i and vertex j</p>\n",
    " \n",
    "\n",
    "\n",
    "\n"
   ]
  },
  {
   "cell_type": "code",
   "execution_count": 10,
   "metadata": {
    "collapsed": false
   },
   "outputs": [
    {
     "name": "stdout",
     "output_type": "stream",
     "text": [
      "(102, 102)\n",
      "[[0 2 2 ..., 0 0 0]\n",
      " [2 0 6 ..., 0 0 0]\n",
      " [2 6 0 ..., 0 0 0]\n",
      " ..., \n",
      " [0 0 0 ..., 0 2 2]\n",
      " [0 0 0 ..., 2 0 2]\n",
      " [0 0 0 ..., 2 2 0]]\n"
     ]
    }
   ],
   "source": [
    "import numpy as np\n",
    "# Get adjacency matrix from our graph\n",
    "A = g.get_adjacency()\n",
    "\n",
    "print (np.shape(A.data))\n",
    "print(np.matrix(A.data))  \n",
    "# sparse..."
   ]
  },
  {
   "cell_type": "markdown",
   "metadata": {
    "slideshow": {
     "slide_type": "slide"
    }
   },
   "source": [
    "**Directed** graphs give an asymmetric\n",
    "matrix of 1s and 0s\n",
    "\n",
    "<code>[[0, 0, 0, 0]\n",
    " [1, 0, 1, 1]\n",
    " [0, 1, 0, 1]\n",
    " [0, 1, 0, 0]]</code>\n",
    "\n",
    "\n",
    "\n",
    "<p>$$A_ij = 1$$ if there is an edge from j to i, 0 otherwise</p>\n",
    "\n"
   ]
  },
  {
   "cell_type": "code",
   "execution_count": 95,
   "metadata": {
    "collapsed": false
   },
   "outputs": [
    {
     "name": "stdout",
     "output_type": "stream",
     "text": [
      "(102, 102)\n",
      "[[0 2 2 ..., 0 0 0]\n",
      " [2 0 6 ..., 0 0 0]\n",
      " [2 6 0 ..., 0 0 0]\n",
      " ..., \n",
      " [0 0 0 ..., 0 2 2]\n",
      " [0 0 0 ..., 2 0 2]\n",
      " [0 0 0 ..., 2 2 0]]\n"
     ]
    }
   ],
   "source": [
    "# Get adjacency matrix from our graph\n",
    "A = g_dir.get_adjacency()\n",
    "\n",
    "print (np.shape(A.data))\n",
    "print(np.matrix(A.data))  \n",
    "# sparse..."
   ]
  },
  {
   "cell_type": "markdown",
   "metadata": {
    "slideshow": {
     "slide_type": "slide"
    }
   },
   "source": [
    "\n",
    "\n",
    "\n",
    "**Weighted** graphs give a matrix of numbers\n",
    "(weights )\n",
    "\n",
    "<code>[[0, 0, 0, 0]\n",
    " [1, 0, 0.5, 1]\n",
    " [0, 0.9, 0, 0.7]\n",
    " [0, 0.1, 0, 0]]</code>\n",
    "\n",
    "\n",
    "\n",
    "<p>there is a weight $$W_ij$$ associated with each edge $$V_ij$$</p>"
   ]
  },
  {
   "cell_type": "markdown",
   "metadata": {
    "slideshow": {
     "slide_type": "slide"
    }
   },
   "source": [
    "## Spectral graph theory\n",
    "\n",
    "... this technique reveals graph properties other than the pure edge structure\n",
    "\n",
    "We can re-write the Adjacency Matrix\n",
    "as \n",
    "$$A = U\\Delta U^T$$\n",
    "\n",
    "where:\n",
    "$U$ is an orthogonal matrix containing eigenvectors\n",
    "and\n",
    "$\\Delta$ is a diagonal matrix containing eigenvalues\n",
    "\n",
    "These eigenvalues represent the **spectrum** of the graph"
   ]
  },
  {
   "cell_type": "markdown",
   "metadata": {
    "slideshow": {
     "slide_type": "-"
    }
   },
   "source": [
    "## Laplacian matrix\n",
    "\n",
    "$$L = D - A$$\n",
    "\n",
    "Where $A$ is the Adjacency matrix, and $D$ is the diagonal 'degree' matrix"
   ]
  },
  {
   "cell_type": "code",
   "execution_count": 11,
   "metadata": {
    "collapsed": false
   },
   "outputs": [
    {
     "name": "stdout",
     "output_type": "stream",
     "text": [
      "(102, 102) <class 'numpy.ndarray'>\n",
      "(102, 102) <class 'list'>\n"
     ]
    }
   ],
   "source": [
    "D = np.diag(g.degree())\n",
    "print (np.shape(D), type(D))\n",
    "L = g.laplacian()\n",
    "print (np.shape(L), type(L))"
   ]
  },
  {
   "cell_type": "code",
   "execution_count": null,
   "metadata": {
    "collapsed": true
   },
   "outputs": [],
   "source": []
  },
  {
   "cell_type": "markdown",
   "metadata": {
    "slideshow": {
     "slide_type": "slide"
    }
   },
   "source": [
    "<h3>Why use Python to do this anyway?</h3>\n",
    "\n",
    "<img src = 'https://www.python.org/static/img/python-logo@2x.png'></img>\n",
    "\n",
    "\n",
    "* prototyping\n",
    "\n",
    "&\n",
    "\n",
    "* production"
   ]
  },
  {
   "cell_type": "markdown",
   "metadata": {
    "slideshow": {
     "slide_type": "skip"
    }
   },
   "source": [
    "## 2a \n",
    "\n",
    "know what graph clustering is, and have a top level view of methods as well as an inkling of which approches are appropriate to which application know how to cluster graph data from different formats with a variety of techniques in Python"
   ]
  },
  {
   "cell_type": "markdown",
   "metadata": {
    "slideshow": {
     "slide_type": "slide"
    }
   },
   "source": [
    "### Part 2: Clustering\n",
    "\n",
    "a. What is clustering, and graph clustering (community detection)\n",
    "\n",
    "b. Be aware of three of the many graph clustering methods\n",
    "\n",
    "c. What (and when and where) are the different approaches to clustering used;\n",
    " * how to apply the appropriate clustering method to your application in Python\n",
    " \n"
   ]
  },
  {
   "cell_type": "markdown",
   "metadata": {
    "slideshow": {
     "slide_type": "slide"
    }
   },
   "source": [
    "## What is clustering?\n",
    "\n",
    "\n",
    "#### An INFORMAL definition\n",
    "<p>A <strong>cluster</strong> is a set of entities that are closer to each other than to the rest of the data set</p>\n",
    "\n",
    "<h4>In machine learning and/or data mining</h4>\n",
    "<p>It is known as unsupervised learning, no prior knowledge of the dataset's underlying structure</p>\n",
    "\n"
   ]
  },
  {
   "cell_type": "markdown",
   "metadata": {
    "slideshow": {
     "slide_type": "slide"
    }
   },
   "source": [
    "### Clustering in networks and graphs: it's different\n",
    "\n",
    "\n",
    "#### Real-world graphs are not random\n",
    "\n",
    "<img src = 'https://www.dropbox.com/s/ifkngqaitk98wlb/Screenshot%202015-11-06%2014.55.55.png?dl=1' width = 600 height = auto></img>\n",
    "\n",
    "\n",
    "* Short distance between nodes\n",
    "* Ties not reciprocal\n",
    "* Skewed degree distribution\n",
    " * edge distribution is inhomogenous\n",
    "\n",
    "See more : http://en.wikipedia.org/wiki/Preferential_attachment\n"
   ]
  },
  {
   "cell_type": "markdown",
   "metadata": {
    "slideshow": {
     "slide_type": "slide"
    }
   },
   "source": [
    "\n",
    "\n",
    "### ...this edge distribution leads to natural groupings of nodes\n",
    "\n",
    "\n",
    "<p>In order to identify these natural groupings, we perform clustering or **community discovery**</p>\n",
    "\n",
    "Groups can be distinguished by: \n",
    "* high internal edge proximity\n",
    "* ...and low edge density between them\n"
   ]
  },
  {
   "cell_type": "markdown",
   "metadata": {
    "slideshow": {
     "slide_type": "slide"
    }
   },
   "source": [
    "\n",
    "<p>We are able to group similar nodes using:</p> \n",
    "<p>(a) topological features extracted from the graph</p>\n",
    "<p>(b) node/edge characteristics</p>\n",
    "<p></p>\n",
    "...leaving us with:\n",
    "*a set of nodes with more internal edges than there are to the rest of the graph*\n"
   ]
  },
  {
   "cell_type": "markdown",
   "metadata": {
    "slideshow": {
     "slide_type": "slide"
    }
   },
   "source": [
    "Definitions of graph clustering:\n",
    "    \n",
    "* clustering within a single graph\n",
    "\n",
    "* clustering sets of graphs\n",
    "\n"
   ]
  },
  {
   "cell_type": "markdown",
   "metadata": {
    "slideshow": {
     "slide_type": "slide"
    }
   },
   "source": [
    "<h3>Other metrics for networks: ranking</h3>\n",
    "\n",
    "* Ranking evaluates networks based on a ranking function\n",
    " * that mathematically demonstrates characteristics of objects.\n",
    " \n",
    "* Compare two objects of the same type\n",
    " * either qualitatively or quantitatively, in a partial order. \n",
    " * PageRank and HITS = most renowned over information networks\n",
    "\n",
    "\n",
    "<a href=\"http://zuse9-2.se.cuhk.edu.hk/~hcheng/paper/edbt09_ysun.pdf\">more detail here</a>"
   ]
  },
  {
   "cell_type": "markdown",
   "metadata": {
    "slideshow": {
     "slide_type": "slide"
    }
   },
   "source": [
    "### Clustering and ranking\n",
    "\n",
    "* ... are often regarded as orthogonal, separate techniques,\n",
    "\n",
    "However: \n",
    "\n",
    "*applying either of them over information\n",
    "networks often leads to incomplete, or sometimes\n",
    "rather biased, analytical results.*\n",
    "\n",
    "* ranking web data alone leads to 'dumb' results,\n",
    " * e.g., ranking duck recipes, computer science conferences\n",
    "\n",
    "* clustering thousands of blog authors into one cluster without distinction is also useless.\n",
    "\n",
    "\n",
    "Combining both => more comprehensible results\n",
    "\n",
    "\n",
    "<a href=\"http://zuse9-2.se.cuhk.edu.hk/~hcheng/paper/edbt09_ysun.pdf\">from here</a>"
   ]
  },
  {
   "cell_type": "markdown",
   "metadata": {
    "collapsed": true,
    "slideshow": {
     "slide_type": "slide"
    }
   },
   "source": [
    "### Summary\n",
    "\n",
    "<p></p>\n",
    "<p><strong>Clustering</strong>: an unsupervised learning problem whereby we aim to group subsets of entities with one another based on some notion of similarity.\n",
    "</p>\n",
    "<p>\n",
    "<p><strong>Community detection</strong>: Clustering as applied to real world networks; grouping nodes into clusters according to their similarity</p>"
   ]
  },
  {
   "cell_type": "markdown",
   "metadata": {
    "slideshow": {
     "slide_type": "slide"
    }
   },
   "source": [
    "## Graph clustering methods\n",
    "\n",
    "\n",
    "Exploration of community detection methods available in igraph library"
   ]
  },
  {
   "cell_type": "markdown",
   "metadata": {
    "slideshow": {
     "slide_type": "slide"
    }
   },
   "source": [
    "\n",
    "\n",
    "### Hierarchical methods \n",
    "\n",
    "* Edge-betweenness\n",
    "\n",
    "\n",
    "* Fast-greedy\n",
    "\n"
   ]
  },
  {
   "cell_type": "markdown",
   "metadata": {
    "slideshow": {
     "slide_type": "slide"
    }
   },
   "source": [
    "### Edge-betweenness community detection\n",
    "\n",
    "* Top-down process\n",
    "\n",
    "* The number of shortest paths that pass through a given edge\n",
    "\n",
    "* remove edges in decreasing order\n"
   ]
  },
  {
   "cell_type": "code",
   "execution_count": 28,
   "metadata": {
    "collapsed": false
   },
   "outputs": [
    {
     "name": "stdout",
     "output_type": "stream",
     "text": [
      "Modularity: 0.59\n",
      "Edge betweenness clustering\n",
      " : 0.24s\n"
     ]
    },
    {
     "data": {
      "text/html": [
       "<div>\n",
       "<table border=\"1\" class=\"dataframe\">\n",
       "  <thead>\n",
       "    <tr style=\"text-align: right;\">\n",
       "      <th></th>\n",
       "      <th>id</th>\n",
       "      <th>name</th>\n",
       "      <th>cluster</th>\n",
       "    </tr>\n",
       "  </thead>\n",
       "  <tbody>\n",
       "    <tr>\n",
       "      <th>62</th>\n",
       "      <td>62</td>\n",
       "      <td>Zach Grenier</td>\n",
       "      <td>2</td>\n",
       "    </tr>\n",
       "    <tr>\n",
       "      <th>70</th>\n",
       "      <td>70</td>\n",
       "      <td>Paul Bettany</td>\n",
       "      <td>2</td>\n",
       "    </tr>\n",
       "    <tr>\n",
       "      <th>49</th>\n",
       "      <td>49</td>\n",
       "      <td>Rosie O'Donnell</td>\n",
       "      <td>2</td>\n",
       "    </tr>\n",
       "    <tr>\n",
       "      <th>32</th>\n",
       "      <td>32</td>\n",
       "      <td>John Cusack</td>\n",
       "      <td>1</td>\n",
       "    </tr>\n",
       "    <tr>\n",
       "      <th>7</th>\n",
       "      <td>7</td>\n",
       "      <td>Aaron Sorkin</td>\n",
       "      <td>1</td>\n",
       "    </tr>\n",
       "  </tbody>\n",
       "</table>\n",
       "</div>"
      ],
      "text/plain": [
       "    id             name  cluster\n",
       "62  62     Zach Grenier        2\n",
       "70  70     Paul Bettany        2\n",
       "49  49  Rosie O'Donnell        2\n",
       "32  32      John Cusack        1\n",
       "7    7     Aaron Sorkin        1"
      ]
     },
     "metadata": {},
     "output_type": "display_data"
    }
   ],
   "source": [
    "from time import time\n",
    "\n",
    "t0 = time()\n",
    "# calculate dendrogram\n",
    "dendrogram = g.community_edge_betweenness()\n",
    "# convert it into a flat clustering\n",
    "clusters = dendrogram.as_clustering()\n",
    "# get the membership vector\n",
    "membership = clusters.membership\n",
    "\n",
    "print(\"Modularity:\", np.round(clusters.modularity,2))\n",
    "\n",
    "nodesDF[\"cluster\"] = membership\n",
    "\n",
    "print(\"%s : %.2fs\" % (\"Edge betweenness clustering\\n\", time() - t0))\n",
    "\n",
    "display(nodesDF.sample(5))\n",
    "\n",
    "# Plot the result\n",
    "df_to_json_save(nodesDF, edgesDF)"
   ]
  },
  {
   "cell_type": "markdown",
   "metadata": {
    "slideshow": {
     "slide_type": "slide"
    }
   },
   "source": [
    "### Fast greedy community detection\n",
    "\n",
    "* Bottom-up process (agglomerative)\n",
    "\n",
    "* Optimises modularity\n",
    "\n",
    "* Start with every vertex belonging to a different community\n",
    " * merge if increases modularity\n"
   ]
  },
  {
   "cell_type": "markdown",
   "metadata": {
    "slideshow": {
     "slide_type": "slide"
    }
   },
   "source": [
    "### Louvain community detection\n",
    "\n",
    "* Iterative process, causes perturbations to community state\n",
    "\n",
    "* Optimises modularity of communities\n",
    "\n",
    "* Until global modularity can be improved\n"
   ]
  },
  {
   "cell_type": "code",
   "execution_count": 30,
   "metadata": {
    "collapsed": false,
    "slideshow": {
     "slide_type": "slide"
    }
   },
   "outputs": [
    {
     "name": "stdout",
     "output_type": "stream",
     "text": [
      "Modularity: 0.61\n",
      "Louvain clustering with modularity\n",
      " : 0.01s\n"
     ]
    },
    {
     "data": {
      "text/html": [
       "<div>\n",
       "<table border=\"1\" class=\"dataframe\">\n",
       "  <thead>\n",
       "    <tr style=\"text-align: right;\">\n",
       "      <th></th>\n",
       "      <th>id</th>\n",
       "      <th>name</th>\n",
       "      <th>cluster</th>\n",
       "    </tr>\n",
       "  </thead>\n",
       "  <tbody>\n",
       "    <tr>\n",
       "      <th>67</th>\n",
       "      <td>67</td>\n",
       "      <td>Takeshi Kitano</td>\n",
       "      <td>1</td>\n",
       "    </tr>\n",
       "    <tr>\n",
       "      <th>95</th>\n",
       "      <td>95</td>\n",
       "      <td>Bill Paxton</td>\n",
       "      <td>0</td>\n",
       "    </tr>\n",
       "    <tr>\n",
       "      <th>40</th>\n",
       "      <td>40</td>\n",
       "      <td>Werner Herzog</td>\n",
       "      <td>5</td>\n",
       "    </tr>\n",
       "    <tr>\n",
       "      <th>23</th>\n",
       "      <td>23</td>\n",
       "      <td>Val Kilmer</td>\n",
       "      <td>7</td>\n",
       "    </tr>\n",
       "    <tr>\n",
       "      <th>21</th>\n",
       "      <td>21</td>\n",
       "      <td>Kelly McGillis</td>\n",
       "      <td>7</td>\n",
       "    </tr>\n",
       "  </tbody>\n",
       "</table>\n",
       "</div>"
      ],
      "text/plain": [
       "    id            name  cluster\n",
       "67  67  Takeshi Kitano        1\n",
       "95  95     Bill Paxton        0\n",
       "40  40   Werner Herzog        5\n",
       "23  23      Val Kilmer        7\n",
       "21  21  Kelly McGillis        7"
      ]
     },
     "metadata": {},
     "output_type": "display_data"
    }
   ],
   "source": [
    "import louvain\n",
    "\n",
    "t0 = time()\n",
    "\n",
    "part = louvain.find_partition(g, method=\"Modularity\")\n",
    "\n",
    "nodesDF[\"cluster\"] = part.membership\n",
    "\n",
    "print(\"Modularity:\", np.round(part.modularity,2))\n",
    "\n",
    "print(\"%s : %.2fs\" % (\"Louvain clustering with modularity\\n\", time() - t0))\n",
    "\n",
    "\n",
    "display(nodesDF.sample(5))\n",
    "\n",
    "# Plot the result\n",
    "df_to_json_save(nodesDF, edgesDF)"
   ]
  },
  {
   "cell_type": "markdown",
   "metadata": {},
   "source": [
    "## Notes on Louvain performance\n",
    "\n",
    "* Much faster than other modularity - based methods"
   ]
  },
  {
   "cell_type": "markdown",
   "metadata": {
    "slideshow": {
     "slide_type": "slide"
    }
   },
   "source": [
    "### Spin-glass community detection\n",
    "\n",
    "* From statistical mechanics\n",
    "\n",
    "* Based on 'Potts' model \n",
    "https://en.wikipedia.org/wiki/Potts_model\n",
    "\n",
    "* Spin states of particles at the end of various simulations define communities\n"
   ]
  },
  {
   "cell_type": "code",
   "execution_count": 31,
   "metadata": {
    "collapsed": false,
    "slideshow": {
     "slide_type": "-"
    }
   },
   "outputs": [
    {
     "name": "stdout",
     "output_type": "stream",
     "text": [
      "Modularity: 0.6\n",
      "Community spin glass clustering\n",
      " : 0.89s\n"
     ]
    },
    {
     "data": {
      "text/html": [
       "<div>\n",
       "<table border=\"1\" class=\"dataframe\">\n",
       "  <thead>\n",
       "    <tr style=\"text-align: right;\">\n",
       "      <th></th>\n",
       "      <th>id</th>\n",
       "      <th>name</th>\n",
       "      <th>cluster</th>\n",
       "    </tr>\n",
       "  </thead>\n",
       "  <tbody>\n",
       "    <tr>\n",
       "      <th>51</th>\n",
       "      <td>51</td>\n",
       "      <td>Victor Garber</td>\n",
       "      <td>5</td>\n",
       "    </tr>\n",
       "    <tr>\n",
       "      <th>38</th>\n",
       "      <td>38</td>\n",
       "      <td>Annabella Sciorra</td>\n",
       "      <td>6</td>\n",
       "    </tr>\n",
       "    <tr>\n",
       "      <th>27</th>\n",
       "      <td>27</td>\n",
       "      <td>Bonnie Hunt</td>\n",
       "      <td>0</td>\n",
       "    </tr>\n",
       "    <tr>\n",
       "      <th>3</th>\n",
       "      <td>3</td>\n",
       "      <td>Carrie-Anne Moss</td>\n",
       "      <td>1</td>\n",
       "    </tr>\n",
       "    <tr>\n",
       "      <th>48</th>\n",
       "      <td>48</td>\n",
       "      <td>Tom Hanks</td>\n",
       "      <td>5</td>\n",
       "    </tr>\n",
       "  </tbody>\n",
       "</table>\n",
       "</div>"
      ],
      "text/plain": [
       "    id               name  cluster\n",
       "51  51      Victor Garber        5\n",
       "38  38  Annabella Sciorra        6\n",
       "27  27        Bonnie Hunt        0\n",
       "3    3   Carrie-Anne Moss        1\n",
       "48  48          Tom Hanks        5"
      ]
     },
     "metadata": {},
     "output_type": "display_data"
    }
   ],
   "source": [
    "from time import time\n",
    "\n",
    "t0 = time()\n",
    "# calculate dendrogram\n",
    "clusters = g.community_spinglass(weights=None, spins=25)\n",
    "# convert it into a flat clustering\n",
    "# clusters = dendrogram.as_clustering()\n",
    "# get the membership vector\n",
    "membership = clusters.membership\n",
    "\n",
    "nodesDF[\"cluster\"] = membership\n",
    "print(\"Modularity:\", np.round(clusters.modularity,2))\n",
    "print(\"%s : %.2fs\" % (\"Community spin glass clustering\\n\", time() - t0))\n",
    "\n",
    "display(nodesDF.sample(5))\n",
    "\n",
    "# Plot the result\n",
    "df_to_json_save(nodesDF, edgesDF)\n"
   ]
  },
  {
   "cell_type": "markdown",
   "metadata": {
    "slideshow": {
     "slide_type": "slide"
    }
   },
   "source": [
    "### Notes on spinglass method performance\n",
    "\n",
    "* Not fast\n",
    "* Not deterministic (due to simulation)\n",
    "* Tuneable\n",
    "\n",
    "* Feature that allows 'negative links'; \n",
    " * i.e. node preference to 'not' be in a community"
   ]
  },
  {
   "cell_type": "markdown",
   "metadata": {
    "slideshow": {
     "slide_type": "slide"
    }
   },
   "source": [
    "### Walk-trap community detection\n",
    "\n",
    "* based on random walks\n",
    "\n",
    "* idea that not many edges lead outside a community\n",
    "\n",
    "* bottom-up merging of results of many short random walks of 3, 4 or 5 steps\n",
    "\n",
    "* modularity used to select cuts"
   ]
  },
  {
   "cell_type": "code",
   "execution_count": 34,
   "metadata": {
    "collapsed": false,
    "slideshow": {
     "slide_type": "-"
    }
   },
   "outputs": [
    {
     "name": "stdout",
     "output_type": "stream",
     "text": [
      "Modularity: 0.58\n",
      "Community walk trap clustering\n",
      " : 0.00s\n"
     ]
    },
    {
     "data": {
      "text/html": [
       "<div>\n",
       "<table border=\"1\" class=\"dataframe\">\n",
       "  <thead>\n",
       "    <tr style=\"text-align: right;\">\n",
       "      <th></th>\n",
       "      <th>id</th>\n",
       "      <th>name</th>\n",
       "      <th>cluster</th>\n",
       "    </tr>\n",
       "  </thead>\n",
       "  <tbody>\n",
       "    <tr>\n",
       "      <th>89</th>\n",
       "      <td>89</td>\n",
       "      <td>Oliver Platt</td>\n",
       "      <td>5</td>\n",
       "    </tr>\n",
       "    <tr>\n",
       "      <th>57</th>\n",
       "      <td>57</td>\n",
       "      <td>Liv Tyler</td>\n",
       "      <td>0</td>\n",
       "    </tr>\n",
       "    <tr>\n",
       "      <th>97</th>\n",
       "      <td>97</td>\n",
       "      <td>Diane Keaton</td>\n",
       "      <td>0</td>\n",
       "    </tr>\n",
       "    <tr>\n",
       "      <th>80</th>\n",
       "      <td>80</td>\n",
       "      <td>Rain</td>\n",
       "      <td>10</td>\n",
       "    </tr>\n",
       "    <tr>\n",
       "      <th>1</th>\n",
       "      <td>1</td>\n",
       "      <td>Hugo Weaving</td>\n",
       "      <td>0</td>\n",
       "    </tr>\n",
       "  </tbody>\n",
       "</table>\n",
       "</div>"
      ],
      "text/plain": [
       "    id          name  cluster\n",
       "89  89  Oliver Platt        5\n",
       "57  57     Liv Tyler        0\n",
       "97  97  Diane Keaton        0\n",
       "80  80          Rain       10\n",
       "1    1  Hugo Weaving        0"
      ]
     },
     "metadata": {},
     "output_type": "display_data"
    }
   ],
   "source": [
    "from time import time\n",
    "\n",
    "t0 = time()\n",
    "# calculate dendrogram\n",
    "dendrogram = g.community_walktrap()\n",
    "# convert it into a flat clustering\n",
    "clusters = dendrogram.as_clustering()\n",
    "# get the membership vector\n",
    "membership = clusters.membership\n",
    "\n",
    "nodesDF[\"cluster\"] = membership\n",
    "print(\"Modularity:\", np.round(clusters.modularity,2))\n",
    "print(\"%s : %.2fs\" % (\"Community walk trap clustering\\n\", time() - t0))\n",
    "\n",
    "display(nodesDF.sample(5))\n",
    "\n",
    "# Plot the result\n",
    "df_to_json_save(nodesDF, edgesDF)\n"
   ]
  },
  {
   "cell_type": "markdown",
   "metadata": {
    "slideshow": {
     "slide_type": "slide"
    }
   },
   "source": [
    "### Notes on walk trap method performance\n",
    "\n",
    "* Very fast, though slower than 'fast greedy' approach\n",
    "* Relatively accurate\n"
   ]
  },
  {
   "cell_type": "markdown",
   "metadata": {},
   "source": [
    "<h3>- Spectral clustering</h3> \n",
    "<p>Popular, and growing!</p>\n",
    "\n"
   ]
  },
  {
   "cell_type": "code",
   "execution_count": 53,
   "metadata": {
    "collapsed": false
   },
   "outputs": [
    {
     "name": "stderr",
     "output_type": "stream",
     "text": [
      "/usr/local/lib/python3.4/site-packages/sklearn/manifold/spectral_embedding_.py:215: UserWarning: Graph is not fully connected, spectral embedding may not work as expected.\n",
      "  warnings.warn(\"Graph is not fully connected, spectral embedding\"\n"
     ]
    }
   ],
   "source": [
    "from sklearn.cluster import spectral_clustering\n",
    "\n",
    "obj = spectral_clustering(np.matrix(A.data), 5)"
   ]
  },
  {
   "cell_type": "markdown",
   "metadata": {
    "slideshow": {
     "slide_type": "slide"
    }
   },
   "source": [
    "### Part 3: Evaluation and other challenges\n",
    "\n",
    "a. What are typical evaluation methods used ?\n",
    " * (graph cutting including modularity, similarity measures including pagerank)\n",
    "\n",
    "b. The challenges around labelling your clusters\n",
    "\n",
    "c. Conclusion\n",
    " * Final thoughts and what worked for us\n",
    " \n"
   ]
  },
  {
   "cell_type": "markdown",
   "metadata": {
    "slideshow": {
     "slide_type": "slide"
    }
   },
   "source": [
    "## How do you evaluate your graph clusters?\n",
    "\n",
    "\n",
    "#### measures for graph cutting:\n",
    "* mincut \n",
    "* ratio cut \n",
    "* formalised cut \n",
    "* conductance\n",
    "* modularity\n",
    "\n",
    "\n",
    "\n",
    "* can optimise with any one of these functions; upon maximising/minimising the resulting metric communities will appear"
   ]
  },
  {
   "cell_type": "markdown",
   "metadata": {
    "slideshow": {
     "slide_type": "slide"
    }
   },
   "source": [
    "## How do you evaluate your graph clusters?\n",
    "\n",
    "\n",
    "#### measures for graph cutting:\n",
    "* mincut \n",
    "\n",
    " * **Minimum number of edges** to partition this graph into 2 or more clusters\n",
    " * Quite poor\n",
    " \n",
    " <img src = 'https://www.dropbox.com/s/gm74vq1i5i3fh7a/Screenshot%202015-11-06%2014.47.00.png?dl=1'></img>\n",
    "\n",
    "\n",
    "* ratio cut \n",
    "\n",
    "-> Sum of edge weights connecting cluster to the rest of the graph,  normalised by the size of cluster C"
   ]
  },
  {
   "cell_type": "markdown",
   "metadata": {},
   "source": [
    "mincut -> originally intended for computer networks, not so good at finding communities ('finds' them regardless) and always finds a fixed number."
   ]
  },
  {
   "cell_type": "markdown",
   "metadata": {
    "slideshow": {
     "slide_type": "slide"
    }
   },
   "source": [
    "* normalised cut \n",
    " * sum of edge weights connecting cluster to the rest of the graph,  normalised by the **degree** of cluster C\n",
    "\n",
    "* conductance\n",
    " * The sum of the normalised cut of individual partitions"
   ]
  },
  {
   "cell_type": "markdown",
   "metadata": {
    "slideshow": {
     "slide_type": "slide"
    }
   },
   "source": [
    "### modularity\n",
    "\n",
    "* The sum of different internal edge weight connections' edge weights, normalised by the number of edges\n",
    "\n",
    "or:\n",
    "\n",
    "* a measurement of the density of edges inside communities to that of edges outside communities.\n",
    "\n",
    "\n",
    "* Interpret as: \n",
    "*difference between the fraction of all edges that fall into individual clusters versus the fraction that would do so if randomly connected.*\n",
    "\n",
    "\n",
    "* Scale value between -1 and 1"
   ]
  },
  {
   "cell_type": "markdown",
   "metadata": {
    "slideshow": {
     "slide_type": "slide"
    }
   },
   "source": [
    "### Similarity measures across networks\n",
    "\n",
    "<p>SimRank</p>\n",
    "\n",
    "<p>other: Personalized Pagerank</p>"
   ]
  },
  {
   "cell_type": "markdown",
   "metadata": {
    "slideshow": {
     "slide_type": "slide"
    }
   },
   "source": [
    "## Back to our use case\n",
    "\n",
    "* Bi-typed graph \n",
    " * URL, keyword are nodes\n",
    " * \"URL ranks for \" is the edge\n",
    "\n",
    "* Louvain, maximising modularity\n",
    "\n",
    "* Can include ranking as a weight factor"
   ]
  },
  {
   "cell_type": "markdown",
   "metadata": {
    "collapsed": true,
    "slideshow": {
     "slide_type": "slide"
    }
   },
   "source": [
    "## The challenges around labelling clusters\n",
    "\n",
    "* Website: www.greatbritishchefs.com\n",
    "\n",
    "* generate a frequency distribution of tokenised search keywords around each cluster (nltk.tokenize() and nltk.FreqDist())\n",
    "\n",
    "* *beef* cluster shown with a wordcloud sized proportional to single word frequency\n",
    "<img src='https://www.dropbox.com/s/y9vn35zwdwhu9sd/Screenshot%202015-11-06%2015.51.52.png?dl=1'></img>"
   ]
  },
  {
   "cell_type": "markdown",
   "metadata": {
    "slideshow": {
     "slide_type": "slide"
    }
   },
   "source": [
    "### Word or phrase frequency: include bi-grams and tri-grams\n",
    "\n",
    "\n",
    "<img src='https://www.dropbox.com/s/9a0snvzfqb0prlu/Screenshot%202015-11-06%2015.52.40.png?dl=1'></img>\n",
    "\n",
    "\n",
    "* nltk.bigrams()\n",
    "\n",
    "* get common words repeated across the dataset\n",
    "\n",
    "* Advisable to use **TF-IDF** (Term Frequency Inverse Document Frequency) (scikit-learn TFIDF vectoriser)\n",
    "\n",
    "* **Stemming** also possible (Python library NLTK)\n",
    " * Drawbacks - how do you re-stem?"
   ]
  },
  {
   "cell_type": "markdown",
   "metadata": {
    "slideshow": {
     "slide_type": "slide"
    }
   },
   "source": [
    "### Limitations of labelling\n",
    "\n",
    "\n",
    "\n",
    "* Most common phrase doesn't give real name:\n",
    " * \"turkey\" is better labelled as \"Christmas and thanksgiving recipes\"\n",
    " * \"pasta\" is better labelled as \"Italian\"\n",
    "\n",
    "* Clients want to label their own clusters\n",
    "\n",
    "* Clients want to match clusters to their own website structure\n"
   ]
  },
  {
   "cell_type": "markdown",
   "metadata": {
    "slideshow": {
     "slide_type": "slide"
    }
   },
   "source": [
    "### Limitations of Louvain method\n",
    "\n",
    "* resolution limitations for the algorithm; \n",
    " * fails to distinguish smaller clusters- e.g. Christmas and Thanksgiving within 'Turkey' \n",
    "\n",
    "* timing quite long for large domains\n",
    " * Optimal if you use data frames and the power of pandas (NOT loops)"
   ]
  },
  {
   "cell_type": "markdown",
   "metadata": {
    "slideshow": {
     "slide_type": "slide"
    }
   },
   "source": [
    "### The next step:\n",
    "\n",
    "<img src='https://www.dropbox.com/s/uvpdp8mgw0v5y72/Screenshot%202015-11-06%2016.27.44.png?dl=1'></img>\n",
    "\n",
    "\n",
    "\n",
    "\n"
   ]
  },
  {
   "cell_type": "markdown",
   "metadata": {
    "slideshow": {
     "slide_type": "slide"
    }
   },
   "source": [
    "### Thank you / Merci \n",
    "\n",
    "\n",
    "\n",
    "frank.kelly@analyticsseo.com\n",
    "\n",
    "Twitter: @norhustla\n",
    "    \n",
    "Analytics SEO: @analyticsseo"
   ]
  },
  {
   "cell_type": "code",
   "execution_count": null,
   "metadata": {
    "collapsed": true
   },
   "outputs": [],
   "source": []
  }
 ],
 "metadata": {
  "celltoolbar": "Slideshow",
  "kernelspec": {
   "display_name": "Python 3",
   "language": "python",
   "name": "python3"
  },
  "language_info": {
   "codemirror_mode": {
    "name": "ipython",
    "version": 3
   },
   "file_extension": ".py",
   "mimetype": "text/x-python",
   "name": "python",
   "nbconvert_exporter": "python",
   "pygments_lexer": "ipython3",
   "version": "3.4.3"
  }
 },
 "nbformat": 4,
 "nbformat_minor": 0
}
